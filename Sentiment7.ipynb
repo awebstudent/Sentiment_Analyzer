{
  "nbformat": 4,
  "nbformat_minor": 0,
  "metadata": {
    "colab": {
      "provenance": [],
      "authorship_tag": "ABX9TyOr7+pWRr0f25QalHm9Bc9X",
      "include_colab_link": true
    },
    "kernelspec": {
      "name": "python3",
      "display_name": "Python 3"
    },
    "language_info": {
      "name": "python"
    }
  },
  "cells": [
    {
      "cell_type": "markdown",
      "metadata": {
        "id": "view-in-github",
        "colab_type": "text"
      },
      "source": [
        "<a href=\"https://colab.research.google.com/github/awebstudent/Sentiment_Analyzer/blob/main/Sentiment7.ipynb\" target=\"_parent\"><img src=\"https://colab.research.google.com/assets/colab-badge.svg\" alt=\"Open In Colab\"/></a>"
      ]
    },
    {
      "cell_type": "code",
      "source": [
        "#approx 150,000 reviews\n",
        "import pandas as pd\n",
        "import json\n",
        "\n",
        "# Function to read JSON lines file\n",
        "def read_json_lines(file_path):\n",
        "    with open(file_path, 'r') as file:\n",
        "        lines = file.readlines()\n",
        "        data = [json.loads(line) for line in lines]\n",
        "    return data\n",
        "\n",
        "# File path to the JSON lines file\n",
        "file_path = 'Prime_Pantry_5.json'\n",
        "\n",
        "# Read the JSON lines data\n",
        "data = read_json_lines(file_path)\n",
        "\n",
        "# Normalize the JSON data\n",
        "df = pd.json_normalize(data)\n",
        "\n",
        "# Save the DataFrame to a CSV file\n",
        "df.to_csv('amazon_reviews.csv', index=False)\n",
        "\n",
        "print(\"Conversion completed. CSV file saved as 'amazon_reviews.csv'.\")\n"
      ],
      "metadata": {
        "colab": {
          "base_uri": "https://localhost:8080/"
        },
        "id": "tqzbHAdny3JM",
        "outputId": "14d274fc-8615-44f5-c9a9-d81b6022020c"
      },
      "execution_count": 4,
      "outputs": [
        {
          "output_type": "stream",
          "name": "stdout",
          "text": [
            "Conversion completed. CSV file saved as 'amazon_reviews.csv'.\n"
          ]
        }
      ]
    },
    {
      "cell_type": "code",
      "execution_count": 5,
      "metadata": {
        "id": "HG1_p11xiO7Q"
      },
      "outputs": [],
      "source": [
        "# Step 1: Importing Libraries\n",
        "import re\n",
        "import nltk\n",
        "from nltk.corpus import stopwords\n",
        "from nltk.tokenize import word_tokenize\n",
        "from nltk.stem import WordNetLemmatizer\n",
        "from sklearn.model_selection import train_test_split\n",
        "from sklearn.feature_extraction.text import TfidfVectorizer\n",
        "from sklearn.linear_model import LogisticRegression\n",
        "from sklearn.naive_bayes import MultinomialNB\n",
        "from sklearn.ensemble import RandomForestClassifier\n",
        "from sklearn.metrics import accuracy_score, classification_report, confusion_matrix\n"
      ]
    },
    {
      "cell_type": "code",
      "source": [
        "df = pd.read_csv('amazon_reviews.csv')\n",
        "df.head()"
      ],
      "metadata": {
        "id": "mPZuShGXicCf",
        "colab": {
          "base_uri": "https://localhost:8080/",
          "height": 556
        },
        "outputId": "0efe9e3e-b5a9-4454-8cf0-a68b16aa6187"
      },
      "execution_count": 6,
      "outputs": [
        {
          "output_type": "execute_result",
          "data": {
            "text/plain": [
              "   overall  verified   reviewTime      reviewerID        asin  \\\n",
              "0      4.0      True  09 24, 2015  A31Y9ELLA1JUB0  B0000DIWNI   \n",
              "1      5.0      True  06 23, 2015  A2FYW9VZ0AMXKY  B0000DIWNI   \n",
              "2      5.0      True  06 13, 2015  A1NE43T0OM6NNX  B0000DIWNI   \n",
              "3      4.0      True   06 3, 2015   AHTCPGK2CNPKU  B0000DIWNI   \n",
              "4      5.0      True  04 20, 2015  A25SIBTMVXLB59  B0000DIWNI   \n",
              "\n",
              "                                    reviewerName  \\\n",
              "0  Her Royal Peepness Princess HoneyBunny Blayze   \n",
              "1                                           Mary   \n",
              "2                                        Tulay C   \n",
              "3                                       OmaShops   \n",
              "4                                    Nitemanslim   \n",
              "\n",
              "                                          reviewText  \\\n",
              "0  I purchased this Saran premium plastic wrap af...   \n",
              "1  I am an avid cook and baker.  Saran Premium Pl...   \n",
              "2  Good wrap, keeping it in the fridge makes it e...   \n",
              "3  I prefer Saran wrap over other brands. It does...   \n",
              "4                                             Thanks   \n",
              "\n",
              "                                             summary  unixReviewTime  vote  \\\n",
              "0                       Pretty Good For plastic Wrap      1443052800   NaN   \n",
              "1  The Best Plastic Wrap for your Cooking, Baking...      1435017600   NaN   \n",
              "2                                   Good and strong.      1434153600   NaN   \n",
              "3  Doesn't cling as well to dishes as other brand...      1433289600   NaN   \n",
              "4                                         Five Stars      1429488000   NaN   \n",
              "\n",
              "  image style.Size: style.Style: style.Format:  \n",
              "0   NaN         NaN          NaN           NaN  \n",
              "1   NaN         NaN          NaN           NaN  \n",
              "2   NaN         NaN          NaN           NaN  \n",
              "3   NaN         NaN          NaN           NaN  \n",
              "4   NaN         NaN          NaN           NaN  "
            ],
            "text/html": [
              "\n",
              "  <div id=\"df-018ee04a-eca3-4ac7-a112-dd2bda137cd5\" class=\"colab-df-container\">\n",
              "    <div>\n",
              "<style scoped>\n",
              "    .dataframe tbody tr th:only-of-type {\n",
              "        vertical-align: middle;\n",
              "    }\n",
              "\n",
              "    .dataframe tbody tr th {\n",
              "        vertical-align: top;\n",
              "    }\n",
              "\n",
              "    .dataframe thead th {\n",
              "        text-align: right;\n",
              "    }\n",
              "</style>\n",
              "<table border=\"1\" class=\"dataframe\">\n",
              "  <thead>\n",
              "    <tr style=\"text-align: right;\">\n",
              "      <th></th>\n",
              "      <th>overall</th>\n",
              "      <th>verified</th>\n",
              "      <th>reviewTime</th>\n",
              "      <th>reviewerID</th>\n",
              "      <th>asin</th>\n",
              "      <th>reviewerName</th>\n",
              "      <th>reviewText</th>\n",
              "      <th>summary</th>\n",
              "      <th>unixReviewTime</th>\n",
              "      <th>vote</th>\n",
              "      <th>image</th>\n",
              "      <th>style.Size:</th>\n",
              "      <th>style.Style:</th>\n",
              "      <th>style.Format:</th>\n",
              "    </tr>\n",
              "  </thead>\n",
              "  <tbody>\n",
              "    <tr>\n",
              "      <th>0</th>\n",
              "      <td>4.0</td>\n",
              "      <td>True</td>\n",
              "      <td>09 24, 2015</td>\n",
              "      <td>A31Y9ELLA1JUB0</td>\n",
              "      <td>B0000DIWNI</td>\n",
              "      <td>Her Royal Peepness Princess HoneyBunny Blayze</td>\n",
              "      <td>I purchased this Saran premium plastic wrap af...</td>\n",
              "      <td>Pretty Good For plastic Wrap</td>\n",
              "      <td>1443052800</td>\n",
              "      <td>NaN</td>\n",
              "      <td>NaN</td>\n",
              "      <td>NaN</td>\n",
              "      <td>NaN</td>\n",
              "      <td>NaN</td>\n",
              "    </tr>\n",
              "    <tr>\n",
              "      <th>1</th>\n",
              "      <td>5.0</td>\n",
              "      <td>True</td>\n",
              "      <td>06 23, 2015</td>\n",
              "      <td>A2FYW9VZ0AMXKY</td>\n",
              "      <td>B0000DIWNI</td>\n",
              "      <td>Mary</td>\n",
              "      <td>I am an avid cook and baker.  Saran Premium Pl...</td>\n",
              "      <td>The Best Plastic Wrap for your Cooking, Baking...</td>\n",
              "      <td>1435017600</td>\n",
              "      <td>NaN</td>\n",
              "      <td>NaN</td>\n",
              "      <td>NaN</td>\n",
              "      <td>NaN</td>\n",
              "      <td>NaN</td>\n",
              "    </tr>\n",
              "    <tr>\n",
              "      <th>2</th>\n",
              "      <td>5.0</td>\n",
              "      <td>True</td>\n",
              "      <td>06 13, 2015</td>\n",
              "      <td>A1NE43T0OM6NNX</td>\n",
              "      <td>B0000DIWNI</td>\n",
              "      <td>Tulay C</td>\n",
              "      <td>Good wrap, keeping it in the fridge makes it e...</td>\n",
              "      <td>Good and strong.</td>\n",
              "      <td>1434153600</td>\n",
              "      <td>NaN</td>\n",
              "      <td>NaN</td>\n",
              "      <td>NaN</td>\n",
              "      <td>NaN</td>\n",
              "      <td>NaN</td>\n",
              "    </tr>\n",
              "    <tr>\n",
              "      <th>3</th>\n",
              "      <td>4.0</td>\n",
              "      <td>True</td>\n",
              "      <td>06 3, 2015</td>\n",
              "      <td>AHTCPGK2CNPKU</td>\n",
              "      <td>B0000DIWNI</td>\n",
              "      <td>OmaShops</td>\n",
              "      <td>I prefer Saran wrap over other brands. It does...</td>\n",
              "      <td>Doesn't cling as well to dishes as other brand...</td>\n",
              "      <td>1433289600</td>\n",
              "      <td>NaN</td>\n",
              "      <td>NaN</td>\n",
              "      <td>NaN</td>\n",
              "      <td>NaN</td>\n",
              "      <td>NaN</td>\n",
              "    </tr>\n",
              "    <tr>\n",
              "      <th>4</th>\n",
              "      <td>5.0</td>\n",
              "      <td>True</td>\n",
              "      <td>04 20, 2015</td>\n",
              "      <td>A25SIBTMVXLB59</td>\n",
              "      <td>B0000DIWNI</td>\n",
              "      <td>Nitemanslim</td>\n",
              "      <td>Thanks</td>\n",
              "      <td>Five Stars</td>\n",
              "      <td>1429488000</td>\n",
              "      <td>NaN</td>\n",
              "      <td>NaN</td>\n",
              "      <td>NaN</td>\n",
              "      <td>NaN</td>\n",
              "      <td>NaN</td>\n",
              "    </tr>\n",
              "  </tbody>\n",
              "</table>\n",
              "</div>\n",
              "    <div class=\"colab-df-buttons\">\n",
              "\n",
              "  <div class=\"colab-df-container\">\n",
              "    <button class=\"colab-df-convert\" onclick=\"convertToInteractive('df-018ee04a-eca3-4ac7-a112-dd2bda137cd5')\"\n",
              "            title=\"Convert this dataframe to an interactive table.\"\n",
              "            style=\"display:none;\">\n",
              "\n",
              "  <svg xmlns=\"http://www.w3.org/2000/svg\" height=\"24px\" viewBox=\"0 -960 960 960\">\n",
              "    <path d=\"M120-120v-720h720v720H120Zm60-500h600v-160H180v160Zm220 220h160v-160H400v160Zm0 220h160v-160H400v160ZM180-400h160v-160H180v160Zm440 0h160v-160H620v160ZM180-180h160v-160H180v160Zm440 0h160v-160H620v160Z\"/>\n",
              "  </svg>\n",
              "    </button>\n",
              "\n",
              "  <style>\n",
              "    .colab-df-container {\n",
              "      display:flex;\n",
              "      gap: 12px;\n",
              "    }\n",
              "\n",
              "    .colab-df-convert {\n",
              "      background-color: #E8F0FE;\n",
              "      border: none;\n",
              "      border-radius: 50%;\n",
              "      cursor: pointer;\n",
              "      display: none;\n",
              "      fill: #1967D2;\n",
              "      height: 32px;\n",
              "      padding: 0 0 0 0;\n",
              "      width: 32px;\n",
              "    }\n",
              "\n",
              "    .colab-df-convert:hover {\n",
              "      background-color: #E2EBFA;\n",
              "      box-shadow: 0px 1px 2px rgba(60, 64, 67, 0.3), 0px 1px 3px 1px rgba(60, 64, 67, 0.15);\n",
              "      fill: #174EA6;\n",
              "    }\n",
              "\n",
              "    .colab-df-buttons div {\n",
              "      margin-bottom: 4px;\n",
              "    }\n",
              "\n",
              "    [theme=dark] .colab-df-convert {\n",
              "      background-color: #3B4455;\n",
              "      fill: #D2E3FC;\n",
              "    }\n",
              "\n",
              "    [theme=dark] .colab-df-convert:hover {\n",
              "      background-color: #434B5C;\n",
              "      box-shadow: 0px 1px 3px 1px rgba(0, 0, 0, 0.15);\n",
              "      filter: drop-shadow(0px 1px 2px rgba(0, 0, 0, 0.3));\n",
              "      fill: #FFFFFF;\n",
              "    }\n",
              "  </style>\n",
              "\n",
              "    <script>\n",
              "      const buttonEl =\n",
              "        document.querySelector('#df-018ee04a-eca3-4ac7-a112-dd2bda137cd5 button.colab-df-convert');\n",
              "      buttonEl.style.display =\n",
              "        google.colab.kernel.accessAllowed ? 'block' : 'none';\n",
              "\n",
              "      async function convertToInteractive(key) {\n",
              "        const element = document.querySelector('#df-018ee04a-eca3-4ac7-a112-dd2bda137cd5');\n",
              "        const dataTable =\n",
              "          await google.colab.kernel.invokeFunction('convertToInteractive',\n",
              "                                                    [key], {});\n",
              "        if (!dataTable) return;\n",
              "\n",
              "        const docLinkHtml = 'Like what you see? Visit the ' +\n",
              "          '<a target=\"_blank\" href=https://colab.research.google.com/notebooks/data_table.ipynb>data table notebook</a>'\n",
              "          + ' to learn more about interactive tables.';\n",
              "        element.innerHTML = '';\n",
              "        dataTable['output_type'] = 'display_data';\n",
              "        await google.colab.output.renderOutput(dataTable, element);\n",
              "        const docLink = document.createElement('div');\n",
              "        docLink.innerHTML = docLinkHtml;\n",
              "        element.appendChild(docLink);\n",
              "      }\n",
              "    </script>\n",
              "  </div>\n",
              "\n",
              "\n",
              "<div id=\"df-767b231c-8cad-4a7b-9c02-68964d213eaf\">\n",
              "  <button class=\"colab-df-quickchart\" onclick=\"quickchart('df-767b231c-8cad-4a7b-9c02-68964d213eaf')\"\n",
              "            title=\"Suggest charts\"\n",
              "            style=\"display:none;\">\n",
              "\n",
              "<svg xmlns=\"http://www.w3.org/2000/svg\" height=\"24px\"viewBox=\"0 0 24 24\"\n",
              "     width=\"24px\">\n",
              "    <g>\n",
              "        <path d=\"M19 3H5c-1.1 0-2 .9-2 2v14c0 1.1.9 2 2 2h14c1.1 0 2-.9 2-2V5c0-1.1-.9-2-2-2zM9 17H7v-7h2v7zm4 0h-2V7h2v10zm4 0h-2v-4h2v4z\"/>\n",
              "    </g>\n",
              "</svg>\n",
              "  </button>\n",
              "\n",
              "<style>\n",
              "  .colab-df-quickchart {\n",
              "      --bg-color: #E8F0FE;\n",
              "      --fill-color: #1967D2;\n",
              "      --hover-bg-color: #E2EBFA;\n",
              "      --hover-fill-color: #174EA6;\n",
              "      --disabled-fill-color: #AAA;\n",
              "      --disabled-bg-color: #DDD;\n",
              "  }\n",
              "\n",
              "  [theme=dark] .colab-df-quickchart {\n",
              "      --bg-color: #3B4455;\n",
              "      --fill-color: #D2E3FC;\n",
              "      --hover-bg-color: #434B5C;\n",
              "      --hover-fill-color: #FFFFFF;\n",
              "      --disabled-bg-color: #3B4455;\n",
              "      --disabled-fill-color: #666;\n",
              "  }\n",
              "\n",
              "  .colab-df-quickchart {\n",
              "    background-color: var(--bg-color);\n",
              "    border: none;\n",
              "    border-radius: 50%;\n",
              "    cursor: pointer;\n",
              "    display: none;\n",
              "    fill: var(--fill-color);\n",
              "    height: 32px;\n",
              "    padding: 0;\n",
              "    width: 32px;\n",
              "  }\n",
              "\n",
              "  .colab-df-quickchart:hover {\n",
              "    background-color: var(--hover-bg-color);\n",
              "    box-shadow: 0 1px 2px rgba(60, 64, 67, 0.3), 0 1px 3px 1px rgba(60, 64, 67, 0.15);\n",
              "    fill: var(--button-hover-fill-color);\n",
              "  }\n",
              "\n",
              "  .colab-df-quickchart-complete:disabled,\n",
              "  .colab-df-quickchart-complete:disabled:hover {\n",
              "    background-color: var(--disabled-bg-color);\n",
              "    fill: var(--disabled-fill-color);\n",
              "    box-shadow: none;\n",
              "  }\n",
              "\n",
              "  .colab-df-spinner {\n",
              "    border: 2px solid var(--fill-color);\n",
              "    border-color: transparent;\n",
              "    border-bottom-color: var(--fill-color);\n",
              "    animation:\n",
              "      spin 1s steps(1) infinite;\n",
              "  }\n",
              "\n",
              "  @keyframes spin {\n",
              "    0% {\n",
              "      border-color: transparent;\n",
              "      border-bottom-color: var(--fill-color);\n",
              "      border-left-color: var(--fill-color);\n",
              "    }\n",
              "    20% {\n",
              "      border-color: transparent;\n",
              "      border-left-color: var(--fill-color);\n",
              "      border-top-color: var(--fill-color);\n",
              "    }\n",
              "    30% {\n",
              "      border-color: transparent;\n",
              "      border-left-color: var(--fill-color);\n",
              "      border-top-color: var(--fill-color);\n",
              "      border-right-color: var(--fill-color);\n",
              "    }\n",
              "    40% {\n",
              "      border-color: transparent;\n",
              "      border-right-color: var(--fill-color);\n",
              "      border-top-color: var(--fill-color);\n",
              "    }\n",
              "    60% {\n",
              "      border-color: transparent;\n",
              "      border-right-color: var(--fill-color);\n",
              "    }\n",
              "    80% {\n",
              "      border-color: transparent;\n",
              "      border-right-color: var(--fill-color);\n",
              "      border-bottom-color: var(--fill-color);\n",
              "    }\n",
              "    90% {\n",
              "      border-color: transparent;\n",
              "      border-bottom-color: var(--fill-color);\n",
              "    }\n",
              "  }\n",
              "</style>\n",
              "\n",
              "  <script>\n",
              "    async function quickchart(key) {\n",
              "      const quickchartButtonEl =\n",
              "        document.querySelector('#' + key + ' button');\n",
              "      quickchartButtonEl.disabled = true;  // To prevent multiple clicks.\n",
              "      quickchartButtonEl.classList.add('colab-df-spinner');\n",
              "      try {\n",
              "        const charts = await google.colab.kernel.invokeFunction(\n",
              "            'suggestCharts', [key], {});\n",
              "      } catch (error) {\n",
              "        console.error('Error during call to suggestCharts:', error);\n",
              "      }\n",
              "      quickchartButtonEl.classList.remove('colab-df-spinner');\n",
              "      quickchartButtonEl.classList.add('colab-df-quickchart-complete');\n",
              "    }\n",
              "    (() => {\n",
              "      let quickchartButtonEl =\n",
              "        document.querySelector('#df-767b231c-8cad-4a7b-9c02-68964d213eaf button');\n",
              "      quickchartButtonEl.style.display =\n",
              "        google.colab.kernel.accessAllowed ? 'block' : 'none';\n",
              "    })();\n",
              "  </script>\n",
              "</div>\n",
              "\n",
              "    </div>\n",
              "  </div>\n"
            ],
            "application/vnd.google.colaboratory.intrinsic+json": {
              "type": "dataframe",
              "variable_name": "df"
            }
          },
          "metadata": {},
          "execution_count": 6
        }
      ]
    },
    {
      "cell_type": "code",
      "source": [
        "nltk.download('punkt')\n",
        "nltk.download('stopwords')\n",
        "nltk.download('wordnet')\n"
      ],
      "metadata": {
        "colab": {
          "base_uri": "https://localhost:8080/"
        },
        "id": "VzRgVSjv8Azw",
        "outputId": "365fdd6b-d172-4fc0-9943-a10d92f59d5a"
      },
      "execution_count": 7,
      "outputs": [
        {
          "output_type": "stream",
          "name": "stderr",
          "text": [
            "[nltk_data] Downloading package punkt to /root/nltk_data...\n",
            "[nltk_data]   Unzipping tokenizers/punkt.zip.\n",
            "[nltk_data] Downloading package stopwords to /root/nltk_data...\n",
            "[nltk_data]   Unzipping corpora/stopwords.zip.\n",
            "[nltk_data] Downloading package wordnet to /root/nltk_data...\n"
          ]
        },
        {
          "output_type": "execute_result",
          "data": {
            "text/plain": [
              "True"
            ]
          },
          "metadata": {},
          "execution_count": 7
        }
      ]
    },
    {
      "cell_type": "code",
      "source": [
        "#  Step 3: Data Preprocessing\n",
        "def preprocess_text(text):\n",
        "    # Remove special characters and digits\n",
        "    text = re.sub(r'[^a-zA-Z\\s]', '', str(text))\n",
        "    # Convert to lowercase\n",
        "    text = text.lower()\n",
        "    # Tokenization\n",
        "    tokens = word_tokenize(text)\n",
        "    # Removing stopwords\n",
        "    stop_words = set(stopwords.words('english'))\n",
        "    filtered_tokens = [word for word in tokens if word not in stop_words]\n",
        "    # Lemmatization\n",
        "    lemmatizer = WordNetLemmatizer()\n",
        "    lemmatized_tokens = [lemmatizer.lemmatize(word) for word in filtered_tokens]\n",
        "    # Join tokens back into text\n",
        "    processed_text = ' '.join(lemmatized_tokens)\n",
        "    return processed_text\n",
        "\n",
        "df['clean_text'] = df['reviewText'].apply(preprocess_text)\n",
        "\n",
        "\n",
        "\n",
        "\n"
      ],
      "metadata": {
        "id": "HK_LiNgNiiLq"
      },
      "execution_count": 8,
      "outputs": []
    },
    {
      "cell_type": "code",
      "source": [
        "# Remove rows with empty 'clean_text' after preprocessing\n",
        "df.dropna(subset=['clean_text'], inplace=True)\n",
        "\n",
        "# Step 4: Split the Dataset\n",
        "X = df['clean_text']\n",
        "y = df['overall']  # Assuming 'overall' contains the target variable"
      ],
      "metadata": {
        "id": "Q-t-OFV0z_NR"
      },
      "execution_count": 9,
      "outputs": []
    },
    {
      "cell_type": "code",
      "source": [
        "# Convert target variable to categorical format (positive, negative, neutral)\n",
        "def categorize_sentiment(rating):\n",
        "    if rating >= 4:\n",
        "        return 'positive'\n",
        "    elif rating <= 2:\n",
        "        return 'negative'\n",
        "    else:\n",
        "        return 'neutral'\n",
        "\n",
        "y_categorical = y.apply(categorize_sentiment)\n",
        "\n",
        "X_train, X_test, y_train, y_test = train_test_split(X, y_categorical, test_size=0.2, random_state=42)"
      ],
      "metadata": {
        "id": "8NrflIoC0APw"
      },
      "execution_count": 10,
      "outputs": []
    },
    {
      "cell_type": "code",
      "source": [
        "# Step 5: Feature Extraction\n",
        "vectorizer = TfidfVectorizer(max_features=5000)\n",
        "X_train_tfidf = vectorizer.fit_transform(X_train)\n",
        "X_test_tfidf = vectorizer.transform(X_test)\n"
      ],
      "metadata": {
        "id": "3UefVj1h_iog"
      },
      "execution_count": 11,
      "outputs": []
    },
    {
      "cell_type": "code",
      "source": [
        "\n",
        "joblib.dump(vectorizer, 'tfidf_vectorizer.pkl')"
      ],
      "metadata": {
        "colab": {
          "base_uri": "https://localhost:8080/"
        },
        "id": "NTPqdpoSReCA",
        "outputId": "ada982f3-042a-4ba0-b22d-b8c886a19b13"
      },
      "execution_count": 38,
      "outputs": [
        {
          "output_type": "execute_result",
          "data": {
            "text/plain": [
              "['tfidf_vectorizer.pkl']"
            ]
          },
          "metadata": {},
          "execution_count": 38
        }
      ]
    },
    {
      "cell_type": "code",
      "source": [
        "# Step 6: Model Training\n",
        "# Logistic Regression\n",
        "logistic_model = LogisticRegression(max_iter=1000)\n",
        "logistic_model.fit(X_train_tfidf, y_train)\n",
        "\n",
        "# Naive Bayes\n",
        "nb_model = MultinomialNB()\n",
        "nb_model.fit(X_train_tfidf, y_train)\n",
        "\n",
        "# Random Forest\n",
        "rf_model = RandomForestClassifier(n_estimators=100)\n",
        "rf_model.fit(X_train_tfidf, y_train)\n"
      ],
      "metadata": {
        "colab": {
          "base_uri": "https://localhost:8080/",
          "height": 74
        },
        "id": "Evp7jU4P_k6x",
        "outputId": "625023cd-0ca9-4771-fdbf-868c983f1ffc"
      },
      "execution_count": 12,
      "outputs": [
        {
          "output_type": "execute_result",
          "data": {
            "text/plain": [
              "RandomForestClassifier()"
            ],
            "text/html": [
              "<style>#sk-container-id-1 {color: black;background-color: white;}#sk-container-id-1 pre{padding: 0;}#sk-container-id-1 div.sk-toggleable {background-color: white;}#sk-container-id-1 label.sk-toggleable__label {cursor: pointer;display: block;width: 100%;margin-bottom: 0;padding: 0.3em;box-sizing: border-box;text-align: center;}#sk-container-id-1 label.sk-toggleable__label-arrow:before {content: \"▸\";float: left;margin-right: 0.25em;color: #696969;}#sk-container-id-1 label.sk-toggleable__label-arrow:hover:before {color: black;}#sk-container-id-1 div.sk-estimator:hover label.sk-toggleable__label-arrow:before {color: black;}#sk-container-id-1 div.sk-toggleable__content {max-height: 0;max-width: 0;overflow: hidden;text-align: left;background-color: #f0f8ff;}#sk-container-id-1 div.sk-toggleable__content pre {margin: 0.2em;color: black;border-radius: 0.25em;background-color: #f0f8ff;}#sk-container-id-1 input.sk-toggleable__control:checked~div.sk-toggleable__content {max-height: 200px;max-width: 100%;overflow: auto;}#sk-container-id-1 input.sk-toggleable__control:checked~label.sk-toggleable__label-arrow:before {content: \"▾\";}#sk-container-id-1 div.sk-estimator input.sk-toggleable__control:checked~label.sk-toggleable__label {background-color: #d4ebff;}#sk-container-id-1 div.sk-label input.sk-toggleable__control:checked~label.sk-toggleable__label {background-color: #d4ebff;}#sk-container-id-1 input.sk-hidden--visually {border: 0;clip: rect(1px 1px 1px 1px);clip: rect(1px, 1px, 1px, 1px);height: 1px;margin: -1px;overflow: hidden;padding: 0;position: absolute;width: 1px;}#sk-container-id-1 div.sk-estimator {font-family: monospace;background-color: #f0f8ff;border: 1px dotted black;border-radius: 0.25em;box-sizing: border-box;margin-bottom: 0.5em;}#sk-container-id-1 div.sk-estimator:hover {background-color: #d4ebff;}#sk-container-id-1 div.sk-parallel-item::after {content: \"\";width: 100%;border-bottom: 1px solid gray;flex-grow: 1;}#sk-container-id-1 div.sk-label:hover label.sk-toggleable__label {background-color: #d4ebff;}#sk-container-id-1 div.sk-serial::before {content: \"\";position: absolute;border-left: 1px solid gray;box-sizing: border-box;top: 0;bottom: 0;left: 50%;z-index: 0;}#sk-container-id-1 div.sk-serial {display: flex;flex-direction: column;align-items: center;background-color: white;padding-right: 0.2em;padding-left: 0.2em;position: relative;}#sk-container-id-1 div.sk-item {position: relative;z-index: 1;}#sk-container-id-1 div.sk-parallel {display: flex;align-items: stretch;justify-content: center;background-color: white;position: relative;}#sk-container-id-1 div.sk-item::before, #sk-container-id-1 div.sk-parallel-item::before {content: \"\";position: absolute;border-left: 1px solid gray;box-sizing: border-box;top: 0;bottom: 0;left: 50%;z-index: -1;}#sk-container-id-1 div.sk-parallel-item {display: flex;flex-direction: column;z-index: 1;position: relative;background-color: white;}#sk-container-id-1 div.sk-parallel-item:first-child::after {align-self: flex-end;width: 50%;}#sk-container-id-1 div.sk-parallel-item:last-child::after {align-self: flex-start;width: 50%;}#sk-container-id-1 div.sk-parallel-item:only-child::after {width: 0;}#sk-container-id-1 div.sk-dashed-wrapped {border: 1px dashed gray;margin: 0 0.4em 0.5em 0.4em;box-sizing: border-box;padding-bottom: 0.4em;background-color: white;}#sk-container-id-1 div.sk-label label {font-family: monospace;font-weight: bold;display: inline-block;line-height: 1.2em;}#sk-container-id-1 div.sk-label-container {text-align: center;}#sk-container-id-1 div.sk-container {/* jupyter's `normalize.less` sets `[hidden] { display: none; }` but bootstrap.min.css set `[hidden] { display: none !important; }` so we also need the `!important` here to be able to override the default hidden behavior on the sphinx rendered scikit-learn.org. See: https://github.com/scikit-learn/scikit-learn/issues/21755 */display: inline-block !important;position: relative;}#sk-container-id-1 div.sk-text-repr-fallback {display: none;}</style><div id=\"sk-container-id-1\" class=\"sk-top-container\"><div class=\"sk-text-repr-fallback\"><pre>RandomForestClassifier()</pre><b>In a Jupyter environment, please rerun this cell to show the HTML representation or trust the notebook. <br />On GitHub, the HTML representation is unable to render, please try loading this page with nbviewer.org.</b></div><div class=\"sk-container\" hidden><div class=\"sk-item\"><div class=\"sk-estimator sk-toggleable\"><input class=\"sk-toggleable__control sk-hidden--visually\" id=\"sk-estimator-id-1\" type=\"checkbox\" checked><label for=\"sk-estimator-id-1\" class=\"sk-toggleable__label sk-toggleable__label-arrow\">RandomForestClassifier</label><div class=\"sk-toggleable__content\"><pre>RandomForestClassifier()</pre></div></div></div></div></div>"
            ]
          },
          "metadata": {},
          "execution_count": 12
        }
      ]
    },
    {
      "cell_type": "code",
      "source": [
        "# Function to evaluate models\n",
        "def evaluate_model(model, X_test, y_test):\n",
        "    predictions = model.predict(X_test)\n",
        "    accuracy = accuracy_score(y_test, predictions)\n",
        "    report = classification_report(y_test, predictions)\n",
        "    cm = confusion_matrix(y_test, predictions)\n",
        "    return accuracy, report, cm\n",
        "\n",
        "# Evaluate Logistic Regression model\n",
        "logistic_accuracy, logistic_report, logistic_cm = evaluate_model(logistic_model, X_test_tfidf, y_test)\n",
        "print(\"Logistic Regression Model Accuracy:\", logistic_accuracy)\n",
        "print(\"Logistic Regression Model Classification Report:\\n\", logistic_report)\n",
        "print(\"Logistic Regression Model Confusion Matrix:\\n\", logistic_cm)\n",
        "\n",
        "# Evaluate Naive Bayes model\n",
        "nb_accuracy, nb_report, nb_cm = evaluate_model(nb_model, X_test_tfidf, y_test)\n",
        "print(\"Naive Bayes Model Accuracy:\", nb_accuracy)\n",
        "print(\"Naive Bayes Model Classification Report:\\n\", nb_report)\n",
        "print(\"Naive Bayes Model Confusion Matrix:\\n\", nb_cm)\n",
        "\n",
        "# Evaluate Random Forest model\n",
        "rf_accuracy, rf_report, rf_cm = evaluate_model(rf_model, X_test_tfidf, y_test)\n",
        "print(\"Random Forest Model Accuracy:\", rf_accuracy)\n",
        "print(\"Random Forest Model Classification Report:\\n\", rf_report)\n",
        "print(\"Random Forest Model Confusion Matrix:\\n\", rf_cm)\n"
      ],
      "metadata": {
        "colab": {
          "base_uri": "https://localhost:8080/"
        },
        "id": "NO33PW27Hs_y",
        "outputId": "fd2270d1-5f78-42e9-a80a-cb65bee2d032"
      },
      "execution_count": 13,
      "outputs": [
        {
          "output_type": "stream",
          "name": "stdout",
          "text": [
            "Logistic Regression Model Accuracy: 0.902641701139415\n",
            "Logistic Regression Model Classification Report:\n",
            "               precision    recall  f1-score   support\n",
            "\n",
            "    negative       0.70      0.38      0.49      1412\n",
            "     neutral       0.52      0.15      0.24      1828\n",
            "    positive       0.92      0.99      0.95     24318\n",
            "\n",
            "    accuracy                           0.90     27558\n",
            "   macro avg       0.71      0.51      0.56     27558\n",
            "weighted avg       0.88      0.90      0.88     27558\n",
            "\n",
            "Logistic Regression Model Confusion Matrix:\n",
            " [[  536    88   788]\n",
            " [  136   278  1414]\n",
            " [   91   166 24061]]\n",
            "Naive Bayes Model Accuracy: 0.8885260178532549\n",
            "Naive Bayes Model Classification Report:\n",
            "               precision    recall  f1-score   support\n",
            "\n",
            "    negative       0.85      0.11      0.19      1412\n",
            "     neutral       0.54      0.02      0.04      1828\n",
            "    positive       0.89      1.00      0.94     24318\n",
            "\n",
            "    accuracy                           0.89     27558\n",
            "   macro avg       0.76      0.38      0.39     27558\n",
            "weighted avg       0.86      0.89      0.84     27558\n",
            "\n",
            "Naive Bayes Model Confusion Matrix:\n",
            " [[  155    18  1239]\n",
            " [   16    41  1771]\n",
            " [   11    17 24290]]\n",
            "Random Forest Model Accuracy: 0.9020973945859642\n",
            "Random Forest Model Classification Report:\n",
            "               precision    recall  f1-score   support\n",
            "\n",
            "    negative       0.75      0.28      0.41      1412\n",
            "     neutral       0.62      0.18      0.28      1828\n",
            "    positive       0.91      0.99      0.95     24318\n",
            "\n",
            "    accuracy                           0.90     27558\n",
            "   macro avg       0.76      0.49      0.55     27558\n",
            "weighted avg       0.88      0.90      0.88     27558\n",
            "\n",
            "Random Forest Model Confusion Matrix:\n",
            " [[  399    74   939]\n",
            " [   71   334  1423]\n",
            " [   63   128 24127]]\n"
          ]
        }
      ]
    },
    {
      "cell_type": "code",
      "source": [
        "def ensemble_predict(X):\n",
        "    preds_logistic = logistic_model.predict(X)\n",
        "    preds_nb = nb_model.predict(X)\n",
        "    preds_rf = rf_model.predict(X)\n",
        "\n",
        "    preds = []\n",
        "    for i in range(X.shape[0]):  # Use X.shape[0] to get the number of rows\n",
        "        # Voting - Simple Majority Voting\n",
        "        pred = max(set([preds_logistic[i], preds_nb[i], preds_rf[i]]), key=[preds_logistic[i], preds_nb[i], preds_rf[i]].count)\n",
        "        preds.append(pred)\n",
        "    return preds\n"
      ],
      "metadata": {
        "id": "vRtBz2TsBDOL"
      },
      "execution_count": 14,
      "outputs": []
    },
    {
      "cell_type": "code",
      "source": [
        "# Step 8: Model Evaluation\n",
        "def evaluate_model(predictions, y_test):\n",
        "    accuracy = accuracy_score(y_test, predictions)\n",
        "    report = classification_report(y_test, predictions)\n",
        "    cm = confusion_matrix(y_test, predictions)\n",
        "    return accuracy, report, cm\n",
        "\n",
        "# Generate predictions using the ensemble model\n",
        "ensemble_predictions = ensemble_predict(X_test_tfidf)\n",
        "\n",
        "# Evaluate the ensemble model\n",
        "ensemble_accuracy, ensemble_report, ensemble_cm = evaluate_model(ensemble_predictions, y_test)\n",
        "\n",
        "# Print evaluation results\n",
        "print(\"Ensemble Model Accuracy:\", ensemble_accuracy)\n",
        "print(\"Ensemble Model Classification Report:\\n\", ensemble_report)\n",
        "print(\"Ensemble Model Confusion Matrix:\\n\", ensemble_cm)"
      ],
      "metadata": {
        "colab": {
          "base_uri": "https://localhost:8080/"
        },
        "id": "YDmzLc12LgV5",
        "outputId": "8f4273fd-d632-4880-fc03-44ad9deeb907"
      },
      "execution_count": 15,
      "outputs": [
        {
          "output_type": "stream",
          "name": "stdout",
          "text": [
            "Ensemble Model Accuracy: 0.898033238986864\n",
            "Ensemble Model Classification Report:\n",
            "               precision    recall  f1-score   support\n",
            "\n",
            "    negative       0.77      0.26      0.39      1412\n",
            "     neutral       0.68      0.07      0.13      1828\n",
            "    positive       0.90      1.00      0.95     24318\n",
            "\n",
            "    accuracy                           0.90     27558\n",
            "   macro avg       0.78      0.44      0.49     27558\n",
            "weighted avg       0.88      0.90      0.86     27558\n",
            "\n",
            "Ensemble Model Confusion Matrix:\n",
            " [[  366    23  1023]\n",
            " [   79   135  1614]\n",
            " [   30    41 24247]]\n"
          ]
        }
      ]
    },
    {
      "cell_type": "code",
      "source": [
        "from sklearn.model_selection import GridSearchCV\n",
        "\n",
        "param_grid = {'C': [0.001, 0.01, 0.1, 1, 10, 100]}\n",
        "grid_search = GridSearchCV(LogisticRegression(max_iter=3000), param_grid, cv=5)\n",
        "\n",
        "grid_search.fit(X_train_tfidf, y_train)\n",
        "best_params = grid_search.best_params_\n",
        "\n",
        "# Train Logistic Regression model with best parameters\n",
        "best_logistic_model = LogisticRegression(max_iter=3000, C=best_params['C'])\n",
        "\n",
        "best_logistic_model.fit(X_train_tfidf, y_train)\n"
      ],
      "metadata": {
        "colab": {
          "base_uri": "https://localhost:8080/",
          "height": 74
        },
        "id": "GOlQv1VILv6g",
        "outputId": "34f40172-4db4-47c1-87da-8bc042ffb02e"
      },
      "execution_count": 29,
      "outputs": [
        {
          "output_type": "execute_result",
          "data": {
            "text/plain": [
              "LogisticRegression(C=1, max_iter=3000)"
            ],
            "text/html": [
              "<style>#sk-container-id-3 {color: black;background-color: white;}#sk-container-id-3 pre{padding: 0;}#sk-container-id-3 div.sk-toggleable {background-color: white;}#sk-container-id-3 label.sk-toggleable__label {cursor: pointer;display: block;width: 100%;margin-bottom: 0;padding: 0.3em;box-sizing: border-box;text-align: center;}#sk-container-id-3 label.sk-toggleable__label-arrow:before {content: \"▸\";float: left;margin-right: 0.25em;color: #696969;}#sk-container-id-3 label.sk-toggleable__label-arrow:hover:before {color: black;}#sk-container-id-3 div.sk-estimator:hover label.sk-toggleable__label-arrow:before {color: black;}#sk-container-id-3 div.sk-toggleable__content {max-height: 0;max-width: 0;overflow: hidden;text-align: left;background-color: #f0f8ff;}#sk-container-id-3 div.sk-toggleable__content pre {margin: 0.2em;color: black;border-radius: 0.25em;background-color: #f0f8ff;}#sk-container-id-3 input.sk-toggleable__control:checked~div.sk-toggleable__content {max-height: 200px;max-width: 100%;overflow: auto;}#sk-container-id-3 input.sk-toggleable__control:checked~label.sk-toggleable__label-arrow:before {content: \"▾\";}#sk-container-id-3 div.sk-estimator input.sk-toggleable__control:checked~label.sk-toggleable__label {background-color: #d4ebff;}#sk-container-id-3 div.sk-label input.sk-toggleable__control:checked~label.sk-toggleable__label {background-color: #d4ebff;}#sk-container-id-3 input.sk-hidden--visually {border: 0;clip: rect(1px 1px 1px 1px);clip: rect(1px, 1px, 1px, 1px);height: 1px;margin: -1px;overflow: hidden;padding: 0;position: absolute;width: 1px;}#sk-container-id-3 div.sk-estimator {font-family: monospace;background-color: #f0f8ff;border: 1px dotted black;border-radius: 0.25em;box-sizing: border-box;margin-bottom: 0.5em;}#sk-container-id-3 div.sk-estimator:hover {background-color: #d4ebff;}#sk-container-id-3 div.sk-parallel-item::after {content: \"\";width: 100%;border-bottom: 1px solid gray;flex-grow: 1;}#sk-container-id-3 div.sk-label:hover label.sk-toggleable__label {background-color: #d4ebff;}#sk-container-id-3 div.sk-serial::before {content: \"\";position: absolute;border-left: 1px solid gray;box-sizing: border-box;top: 0;bottom: 0;left: 50%;z-index: 0;}#sk-container-id-3 div.sk-serial {display: flex;flex-direction: column;align-items: center;background-color: white;padding-right: 0.2em;padding-left: 0.2em;position: relative;}#sk-container-id-3 div.sk-item {position: relative;z-index: 1;}#sk-container-id-3 div.sk-parallel {display: flex;align-items: stretch;justify-content: center;background-color: white;position: relative;}#sk-container-id-3 div.sk-item::before, #sk-container-id-3 div.sk-parallel-item::before {content: \"\";position: absolute;border-left: 1px solid gray;box-sizing: border-box;top: 0;bottom: 0;left: 50%;z-index: -1;}#sk-container-id-3 div.sk-parallel-item {display: flex;flex-direction: column;z-index: 1;position: relative;background-color: white;}#sk-container-id-3 div.sk-parallel-item:first-child::after {align-self: flex-end;width: 50%;}#sk-container-id-3 div.sk-parallel-item:last-child::after {align-self: flex-start;width: 50%;}#sk-container-id-3 div.sk-parallel-item:only-child::after {width: 0;}#sk-container-id-3 div.sk-dashed-wrapped {border: 1px dashed gray;margin: 0 0.4em 0.5em 0.4em;box-sizing: border-box;padding-bottom: 0.4em;background-color: white;}#sk-container-id-3 div.sk-label label {font-family: monospace;font-weight: bold;display: inline-block;line-height: 1.2em;}#sk-container-id-3 div.sk-label-container {text-align: center;}#sk-container-id-3 div.sk-container {/* jupyter's `normalize.less` sets `[hidden] { display: none; }` but bootstrap.min.css set `[hidden] { display: none !important; }` so we also need the `!important` here to be able to override the default hidden behavior on the sphinx rendered scikit-learn.org. See: https://github.com/scikit-learn/scikit-learn/issues/21755 */display: inline-block !important;position: relative;}#sk-container-id-3 div.sk-text-repr-fallback {display: none;}</style><div id=\"sk-container-id-3\" class=\"sk-top-container\"><div class=\"sk-text-repr-fallback\"><pre>LogisticRegression(C=1, max_iter=3000)</pre><b>In a Jupyter environment, please rerun this cell to show the HTML representation or trust the notebook. <br />On GitHub, the HTML representation is unable to render, please try loading this page with nbviewer.org.</b></div><div class=\"sk-container\" hidden><div class=\"sk-item\"><div class=\"sk-estimator sk-toggleable\"><input class=\"sk-toggleable__control sk-hidden--visually\" id=\"sk-estimator-id-3\" type=\"checkbox\" checked><label for=\"sk-estimator-id-3\" class=\"sk-toggleable__label sk-toggleable__label-arrow\">LogisticRegression</label><div class=\"sk-toggleable__content\"><pre>LogisticRegression(C=1, max_iter=3000)</pre></div></div></div></div></div>"
            ]
          },
          "metadata": {},
          "execution_count": 29
        }
      ]
    },
    {
      "cell_type": "code",
      "source": [
        "# Plot confusion matrix\n",
        "import matplotlib.pyplot as plt\n",
        "import numpy as np\n",
        "def plot_confusion_matrix(cm, classes, title='Confusion Matrix', cmap=plt.cm.Blues):\n",
        "    plt.imshow(cm, interpolation='nearest', cmap=cmap)\n",
        "    plt.title(title)\n",
        "    plt.colorbar()\n",
        "    tick_marks = np.arange(len(classes))\n",
        "    plt.xticks(tick_marks, classes, rotation=45)\n",
        "    plt.yticks(tick_marks, classes)\n",
        "    plt.xlabel('Predicted Label')\n",
        "    plt.ylabel('True Label')\n",
        "   # Evaluate best logistic regression model\n",
        "best_logistic_predictions = best_logistic_model.predict(X_test_tfidf)\n",
        "best_logistic_accuracy, best_logistic_report, best_logistic_cm = evaluate_model(best_logistic_predictions, y_test)\n",
        "\n",
        "\n"
      ],
      "metadata": {
        "id": "FiZ8tnq8L6FU"
      },
      "execution_count": 30,
      "outputs": []
    },
    {
      "cell_type": "code",
      "source": [],
      "metadata": {
        "id": "OZVbsKHeFG3u"
      },
      "execution_count": null,
      "outputs": []
    },
    {
      "cell_type": "code",
      "source": [
        "def hybrid_model(X):\n",
        "    logistic_preds = best_logistic_model.predict(X)\n",
        "    ensemble_preds = ensemble_predict(X)\n",
        "\n",
        "    hybrid_preds = []\n",
        "    for i in range(len(logistic_preds)):\n",
        "        if logistic_preds[i] == ensemble_preds[i]:\n",
        "            hybrid_preds.append(logistic_preds[i])\n",
        "        else:\n",
        "            # Use ensemble prediction if logistic and ensemble predictions differ\n",
        "            hybrid_preds.append(ensemble_preds[i])\n",
        "\n",
        "    return hybrid_preds\n",
        "\n",
        "# Generate predictions using the hybrid model\n",
        "hybrid_predictions = hybrid_model(X_test_tfidf)\n",
        "\n",
        "# Evaluate the hybrid model\n",
        "hybrid_accuracy, hybrid_report, hybrid_cm = evaluate_model(hybrid_predictions, y_test)\n",
        "\n",
        "# Print evaluation results for hybrid model\n",
        "print(\"Hybrid Model Accuracy:\", hybrid_accuracy)\n",
        "print(\"Hybrid Model Classification Report:\\n\", hybrid_report)\n",
        "print(\"Hybrid Model Confusion Matrix:\\n\", hybrid_cm)\n"
      ],
      "metadata": {
        "colab": {
          "base_uri": "https://localhost:8080/"
        },
        "id": "Bud6LEmjMFet",
        "outputId": "1fc0938e-6510-49a4-8935-f25988fb81ab"
      },
      "execution_count": 31,
      "outputs": [
        {
          "output_type": "stream",
          "name": "stdout",
          "text": [
            "Hybrid Model Accuracy: 0.898033238986864\n",
            "Hybrid Model Classification Report:\n",
            "               precision    recall  f1-score   support\n",
            "\n",
            "    negative       0.77      0.26      0.39      1412\n",
            "     neutral       0.68      0.07      0.13      1828\n",
            "    positive       0.90      1.00      0.95     24318\n",
            "\n",
            "    accuracy                           0.90     27558\n",
            "   macro avg       0.78      0.44      0.49     27558\n",
            "weighted avg       0.88      0.90      0.86     27558\n",
            "\n",
            "Hybrid Model Confusion Matrix:\n",
            " [[  366    23  1023]\n",
            " [   79   135  1614]\n",
            " [   30    41 24247]]\n"
          ]
        }
      ]
    },
    {
      "cell_type": "code",
      "source": [
        "import joblib\n",
        "\n",
        "\n",
        "# Save the hybrid model to a file\n",
        "joblib.dump(hybrid_model, 'hybrid_model.pkl')"
      ],
      "metadata": {
        "colab": {
          "base_uri": "https://localhost:8080/"
        },
        "id": "926gchSAOPvA",
        "outputId": "4dea680a-b5cd-47f8-8717-1bda8100a3b1"
      },
      "execution_count": 35,
      "outputs": [
        {
          "output_type": "execute_result",
          "data": {
            "text/plain": [
              "['hybrid_model.pkl']"
            ]
          },
          "metadata": {},
          "execution_count": 35
        }
      ]
    },
    {
      "cell_type": "code",
      "source": [
        "# Sample inputs for testing\n",
        "sample_inputs = [\n",
        "    \"This product is great! I love it.\",\n",
        "    \"This product is terrible. Waste of money.\",\n",
        "    \"Not bad, but could be better.\"\n",
        "]\n",
        "\n",
        "# Preprocess the sample inputs\n",
        "preprocessed_samples = [preprocess_text(text) for text in sample_inputs]\n",
        "\n",
        "# Convert the preprocessed texts into TF-IDF features\n",
        "sample_tfidf = vectorizer.transform(preprocessed_samples)\n",
        "\n",
        "# Use the hybrid model to make predictions on the sample inputs\n",
        "sample_predictions = []\n",
        "\n",
        "for sample in sample_tfidf:\n",
        "    logistic_pred = best_logistic_model.predict(sample)[0]\n",
        "    nb_pred = nb_model.predict(sample)[0]\n",
        "    rf_pred = rf_model.predict(sample)[0]\n",
        "\n",
        "    # Voting - Simple Majority Voting\n",
        "    # Count the occurrences of each sentiment prediction\n",
        "    pred_counts = {'positive': 0, 'neutral': 0, 'negative': 0}\n",
        "    pred_counts[logistic_pred] += 1\n",
        "    pred_counts[nb_pred] += 1\n",
        "    pred_counts[rf_pred] += 1\n",
        "\n",
        "    # Get the sentiment with the maximum count\n",
        "    final_prediction = max(pred_counts, key=pred_counts.get)\n",
        "\n",
        "    sample_predictions.append(final_prediction)\n",
        "\n",
        "# Print the predictions\n",
        "for input_text, prediction in zip(sample_inputs, sample_predictions):\n",
        "    print(f\"Input: {input_text}\\nPredicted Sentiment: {prediction}\\n\")\n",
        "\n",
        "\n",
        "\n",
        "\n"
      ],
      "metadata": {
        "colab": {
          "base_uri": "https://localhost:8080/"
        },
        "id": "GNScl1FFMQWL",
        "outputId": "f4fa2ce3-f147-41c1-be2c-e4c056d5f09d"
      },
      "execution_count": 37,
      "outputs": [
        {
          "output_type": "stream",
          "name": "stdout",
          "text": [
            "Input: This product is great! I love it.\n",
            "Predicted Sentiment: positive\n",
            "\n",
            "Input: This product is terrible. Waste of money.\n",
            "Predicted Sentiment: negative\n",
            "\n",
            "Input: Not bad, but could be better.\n",
            "Predicted Sentiment: positive\n",
            "\n"
          ]
        }
      ]
    },
    {
      "cell_type": "code",
      "source": [
        "\n",
        "\n",
        "# Save the models\n",
        "joblib.dump(logistic_model, 'logistic_model.pkl')\n",
        "joblib.dump(nb_model, 'nb_model.pkl')\n",
        "joblib.dump(rf_model, 'rf_model.pkl')\n",
        "\n"
      ],
      "metadata": {
        "colab": {
          "base_uri": "https://localhost:8080/"
        },
        "id": "rGifaVZTVktW",
        "outputId": "81b21454-749a-41ff-9be6-1a37115ffcf1"
      },
      "execution_count": 39,
      "outputs": [
        {
          "output_type": "execute_result",
          "data": {
            "text/plain": [
              "['rf_model.pkl']"
            ]
          },
          "metadata": {},
          "execution_count": 39
        }
      ]
    }
  ]
}